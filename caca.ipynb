{
 "cells": [
  {
   "cell_type": "code",
   "execution_count": null,
   "metadata": {},
   "outputs": [],
   "source": [
    "import gpt4free\n",
    "from gpt4free import Provider\n",
    "from gpt4free  import forefront\n",
    "from gpt4free import verce\n",
    "\n",
    "\n",
    "pregunta = ''\n",
    "\n",
    "# usage You\n",
    "response1 = gpt4free.Completion.create(Provider.You, prompt=pregunta)\n",
    "# usage theb\n",
    "response2 = gpt4free.Completion.create(Provider.Theb, prompt=pregunta)\n",
    "\n",
    "\n",
    "\n",
    "print(f\"Primera respuesta:\\n\\n {response1}\")\n",
    "print(\"-\"*60)\n",
    "print(f\"Segunda respuesta:\\n\\n {response2}\")\n",
    "\n"
   ]
  }
 ],
 "metadata": {
  "kernelspec": {
   "display_name": "base",
   "language": "python",
   "name": "python3"
  },
  "language_info": {
   "codemirror_mode": {
    "name": "ipython",
    "version": 3
   },
   "file_extension": ".py",
   "mimetype": "text/x-python",
   "name": "python",
   "nbconvert_exporter": "python",
   "pygments_lexer": "ipython3",
   "version": "3.10.9"
  },
  "orig_nbformat": 4
 },
 "nbformat": 4,
 "nbformat_minor": 2
}
